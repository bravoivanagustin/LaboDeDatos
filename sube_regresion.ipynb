{
 "cells": [
  {
   "cell_type": "markdown",
   "metadata": {},
   "source": [
    "## MODELO"
   ]
  },
  {
   "cell_type": "code",
   "execution_count": 271,
   "metadata": {},
   "outputs": [],
   "source": [
    "import seaborn as sns\n",
    "from sklearn.model_selection import KFold\n",
    "import matplotlib.pyplot as plt\n",
    "\n",
    "import numpy as np\n",
    "import pandas as pd\n",
    "from sklearn import linear_model \n",
    "from sklearn.preprocessing import PolynomialFeatures\n",
    "from sklearn.linear_model import LinearRegression\n",
    "from sklearn.model_selection import train_test_split\n",
    "from sklearn.linear_model import Ridge\n",
    "from sklearn.metrics import mean_squared_error, r2_score\n",
    "from formulaic import model_matrix\n",
    "from sklearn.datasets import load_wine\n",
    "from sklearn.model_selection import GridSearchCV\n",
    "import nums_from_string"
   ]
  },
  {
   "cell_type": "code",
   "execution_count": 343,
   "metadata": {},
   "outputs": [],
   "source": [
    "datos = pd.read_csv(\"sube-2023-regresion.csv\")\n",
    "\n",
    "#datos"
   ]
  },
  {
   "cell_type": "code",
   "execution_count": 273,
   "metadata": {},
   "outputs": [],
   "source": [
    "colectivos = datos[(datos[\"TIPO_TRANSPORTE\"] == \"COLECTIVO\") & (datos[\"PROVINCIA\"] == \"JN\") \n",
    "                   & (datos[\"AMBA\"] == \"SI\")  & (datos[\"DATO_PRELIMINAR\"] == \"NO\")]\n",
    "\n",
    "columnas = colectivos[\"LINEA\"].unique()"
   ]
  },
  {
   "cell_type": "code",
   "execution_count": 274,
   "metadata": {},
   "outputs": [],
   "source": [
    "pasajeros = pd.DataFrame()\n",
    "\n",
    "for columna in columnas:\n",
    "    linea = colectivos[colectivos[\"LINEA\"] == columna][[\"DIA_TRANSPORTE\", \"CANTIDAD\"]]\n",
    "    linea = linea.set_index(\"DIA_TRANSPORTE\").rename(columns = {\"CANTIDAD\" : columna})\n",
    "    pasajeros = pd.concat([pasajeros, linea], axis = 1)\n"
   ]
  },
  {
   "cell_type": "code",
   "execution_count": 275,
   "metadata": {},
   "outputs": [
    {
     "name": "stdout",
     "output_type": "stream",
     "text": [
      "124.0\n"
     ]
    }
   ],
   "source": [
    "print(len(pasajeros.columns)-(pasajeros.isnull().sum()/pasajeros.isnull().sum()).sum())"
   ]
  },
  {
   "cell_type": "code",
   "execution_count": 276,
   "metadata": {},
   "outputs": [
    {
     "data": {
      "text/plain": [
       "True"
      ]
     },
     "execution_count": 276,
     "metadata": {},
     "output_type": "execute_result"
    }
   ],
   "source": [
    "for columna in pasajeros.columns:\n",
    "    if pasajeros[columna].isnull().sum() != 0:\n",
    "        pasajeros = pasajeros.drop(columna, axis = 1)\n",
    "\n",
    "pasajeros.isnull().sum().sum() == 0\n",
    "#Con esto chequea que no tenga ningun null, el primer sum lo hace por linea, el segundo entre todas las lineas"
   ]
  },
  {
   "cell_type": "code",
   "execution_count": 277,
   "metadata": {},
   "outputs": [],
   "source": [
    "#Para facilitar lectura y obtencion de distintos datos voy a usar el paquete nums_from_string, para poder asignar a cada linea unicamente\n",
    "# su numero como identificador de la columna, pero que a su vez los numeros queden como strings\n",
    "\n",
    "columnas_nums = []\n",
    "\n",
    "for i in pasajeros.columns:\n",
    "    num = nums_from_string.get_nums(i)\n",
    "    columnas_nums += num\n",
    "\n",
    "columnas_nums = ['L'+str(n) for n in columnas_nums]\n",
    "\n",
    "pasajeros.columns = columnas_nums\n",
    "\n",
    "#Chequear que queden los numeros y pasados como string\n",
    "#pasajeros\n",
    "#type(pasajeros.columns[0])"
   ]
  },
  {
   "cell_type": "markdown",
   "metadata": {},
   "source": [
    "La idea para armar el modelo fue averiguar las terminales de la linea 9, que son Retiro y Villa Caraza, y encontrar lineas de colectivos que pasen por la zona. La hipotesis es que las paradas que son mas cercanas a las terminales suelen tener mas poblacion de pasajeros que las intermedias, y en particular para un colectivo que viene desde la provincia. Por lo tanto para un primer modelo se aproximara por lineas que tengan paradas cercanas a las de las terminales de la linea 9."
   ]
  },
  {
   "cell_type": "markdown",
   "metadata": {},
   "source": [
    "RETIRO: \n",
    "5, 6, 7, 9, 20, 21, 22, 23, 26, 33, 45, 50, 51, 54, 56, 61, 62, 70, 75, 91, 100, \n",
    "101, 106, 108, 115, 126, 129, 130, 132, 143, 150, 152 y 195\n",
    "\n",
    "VILLA CARAZA:\n",
    "9, 158, 247 y 520 "
   ]
  },
  {
   "cell_type": "markdown",
   "metadata": {},
   "source": [
    "Con estas lineas mi idea es averiguar cuales son las que mueven mas pasajeros en promedio, y tambien con una analisis de correlacion ver si se relacionan linealmente con la linea 9.\n"
   ]
  },
  {
   "cell_type": "code",
   "execution_count": 278,
   "metadata": {},
   "outputs": [],
   "source": [
    "retiro = [5, 6, 7, 20, 21, 22, 23, 26, 33, 45, 50, 51, 54, 56, 61, 62, 70, 75, 91, 100, \n",
    "101, 106, 108, 115, 126, 129, 130, 132, 143, 150, 152, 195]\n",
    "\n",
    "lineas_retiro = ['L'+str(x) for x in retiro if 'L'+str(x) in pasajeros.columns]\n",
    "\n",
    "villa_caraza = [158, 247, 520]\n",
    "\n",
    "lineas_villa_caraza = ['L'+str(x) for x in villa_caraza if 'L'+str(x) in pasajeros.columns]\n"
   ]
  },
  {
   "cell_type": "code",
   "execution_count": 279,
   "metadata": {},
   "outputs": [
    {
     "data": {
      "text/html": [
       "<div>\n",
       "<style scoped>\n",
       "    .dataframe tbody tr th:only-of-type {\n",
       "        vertical-align: middle;\n",
       "    }\n",
       "\n",
       "    .dataframe tbody tr th {\n",
       "        vertical-align: top;\n",
       "    }\n",
       "\n",
       "    .dataframe thead th {\n",
       "        text-align: right;\n",
       "    }\n",
       "</style>\n",
       "<table border=\"1\" class=\"dataframe\">\n",
       "  <thead>\n",
       "    <tr style=\"text-align: right;\">\n",
       "      <th></th>\n",
       "      <th>L9</th>\n",
       "      <th>L6</th>\n",
       "      <th>L7</th>\n",
       "      <th>L20</th>\n",
       "      <th>L21</th>\n",
       "      <th>L22</th>\n",
       "      <th>L23</th>\n",
       "      <th>L26</th>\n",
       "      <th>L33</th>\n",
       "      <th>L45</th>\n",
       "      <th>...</th>\n",
       "      <th>L106</th>\n",
       "      <th>L108</th>\n",
       "      <th>L115</th>\n",
       "      <th>L126</th>\n",
       "      <th>L130</th>\n",
       "      <th>L132</th>\n",
       "      <th>L143</th>\n",
       "      <th>L150</th>\n",
       "      <th>L152</th>\n",
       "      <th>L158</th>\n",
       "    </tr>\n",
       "    <tr>\n",
       "      <th>DIA_TRANSPORTE</th>\n",
       "      <th></th>\n",
       "      <th></th>\n",
       "      <th></th>\n",
       "      <th></th>\n",
       "      <th></th>\n",
       "      <th></th>\n",
       "      <th></th>\n",
       "      <th></th>\n",
       "      <th></th>\n",
       "      <th></th>\n",
       "      <th></th>\n",
       "      <th></th>\n",
       "      <th></th>\n",
       "      <th></th>\n",
       "      <th></th>\n",
       "      <th></th>\n",
       "      <th></th>\n",
       "      <th></th>\n",
       "      <th></th>\n",
       "      <th></th>\n",
       "      <th></th>\n",
       "    </tr>\n",
       "  </thead>\n",
       "  <tbody>\n",
       "    <tr>\n",
       "      <th>2023-01-01</th>\n",
       "      <td>5644</td>\n",
       "      <td>2449</td>\n",
       "      <td>2184</td>\n",
       "      <td>2617</td>\n",
       "      <td>11235</td>\n",
       "      <td>2202</td>\n",
       "      <td>1033</td>\n",
       "      <td>5399</td>\n",
       "      <td>8076</td>\n",
       "      <td>6517</td>\n",
       "      <td>...</td>\n",
       "      <td>4921</td>\n",
       "      <td>1972</td>\n",
       "      <td>2951</td>\n",
       "      <td>7052</td>\n",
       "      <td>4780</td>\n",
       "      <td>9691</td>\n",
       "      <td>2249</td>\n",
       "      <td>4033</td>\n",
       "      <td>14533</td>\n",
       "      <td>2226</td>\n",
       "    </tr>\n",
       "    <tr>\n",
       "      <th>2023-01-02</th>\n",
       "      <td>23284</td>\n",
       "      <td>10486</td>\n",
       "      <td>12774</td>\n",
       "      <td>11934</td>\n",
       "      <td>55611</td>\n",
       "      <td>13823</td>\n",
       "      <td>8136</td>\n",
       "      <td>19374</td>\n",
       "      <td>33017</td>\n",
       "      <td>25514</td>\n",
       "      <td>...</td>\n",
       "      <td>26317</td>\n",
       "      <td>13084</td>\n",
       "      <td>16797</td>\n",
       "      <td>26766</td>\n",
       "      <td>29406</td>\n",
       "      <td>38528</td>\n",
       "      <td>13392</td>\n",
       "      <td>16375</td>\n",
       "      <td>52104</td>\n",
       "      <td>12302</td>\n",
       "    </tr>\n",
       "    <tr>\n",
       "      <th>2023-01-04</th>\n",
       "      <td>25405</td>\n",
       "      <td>12193</td>\n",
       "      <td>13949</td>\n",
       "      <td>13366</td>\n",
       "      <td>61721</td>\n",
       "      <td>16206</td>\n",
       "      <td>9507</td>\n",
       "      <td>21889</td>\n",
       "      <td>35216</td>\n",
       "      <td>27563</td>\n",
       "      <td>...</td>\n",
       "      <td>30053</td>\n",
       "      <td>16166</td>\n",
       "      <td>17558</td>\n",
       "      <td>30547</td>\n",
       "      <td>34393</td>\n",
       "      <td>41682</td>\n",
       "      <td>14806</td>\n",
       "      <td>17898</td>\n",
       "      <td>59989</td>\n",
       "      <td>13686</td>\n",
       "    </tr>\n",
       "    <tr>\n",
       "      <th>2023-01-05</th>\n",
       "      <td>26489</td>\n",
       "      <td>12888</td>\n",
       "      <td>14668</td>\n",
       "      <td>12929</td>\n",
       "      <td>62510</td>\n",
       "      <td>16863</td>\n",
       "      <td>9864</td>\n",
       "      <td>22505</td>\n",
       "      <td>36858</td>\n",
       "      <td>29314</td>\n",
       "      <td>...</td>\n",
       "      <td>30230</td>\n",
       "      <td>15774</td>\n",
       "      <td>19357</td>\n",
       "      <td>32140</td>\n",
       "      <td>33535</td>\n",
       "      <td>44929</td>\n",
       "      <td>15512</td>\n",
       "      <td>19526</td>\n",
       "      <td>60288</td>\n",
       "      <td>15533</td>\n",
       "    </tr>\n",
       "    <tr>\n",
       "      <th>2023-01-06</th>\n",
       "      <td>26458</td>\n",
       "      <td>12703</td>\n",
       "      <td>14199</td>\n",
       "      <td>12955</td>\n",
       "      <td>63528</td>\n",
       "      <td>16846</td>\n",
       "      <td>10012</td>\n",
       "      <td>22730</td>\n",
       "      <td>36805</td>\n",
       "      <td>28809</td>\n",
       "      <td>...</td>\n",
       "      <td>30021</td>\n",
       "      <td>16065</td>\n",
       "      <td>19146</td>\n",
       "      <td>31701</td>\n",
       "      <td>31968</td>\n",
       "      <td>44337</td>\n",
       "      <td>15482</td>\n",
       "      <td>19216</td>\n",
       "      <td>57939</td>\n",
       "      <td>15934</td>\n",
       "    </tr>\n",
       "  </tbody>\n",
       "</table>\n",
       "<p>5 rows × 30 columns</p>\n",
       "</div>"
      ],
      "text/plain": [
       "                   L9     L6     L7    L20    L21    L22    L23    L26    L33  \\\n",
       "DIA_TRANSPORTE                                                                  \n",
       "2023-01-01       5644   2449   2184   2617  11235   2202   1033   5399   8076   \n",
       "2023-01-02      23284  10486  12774  11934  55611  13823   8136  19374  33017   \n",
       "2023-01-04      25405  12193  13949  13366  61721  16206   9507  21889  35216   \n",
       "2023-01-05      26489  12888  14668  12929  62510  16863   9864  22505  36858   \n",
       "2023-01-06      26458  12703  14199  12955  63528  16846  10012  22730  36805   \n",
       "\n",
       "                  L45  ...   L106   L108   L115   L126   L130   L132   L143  \\\n",
       "DIA_TRANSPORTE         ...                                                    \n",
       "2023-01-01       6517  ...   4921   1972   2951   7052   4780   9691   2249   \n",
       "2023-01-02      25514  ...  26317  13084  16797  26766  29406  38528  13392   \n",
       "2023-01-04      27563  ...  30053  16166  17558  30547  34393  41682  14806   \n",
       "2023-01-05      29314  ...  30230  15774  19357  32140  33535  44929  15512   \n",
       "2023-01-06      28809  ...  30021  16065  19146  31701  31968  44337  15482   \n",
       "\n",
       "                 L150   L152   L158  \n",
       "DIA_TRANSPORTE                       \n",
       "2023-01-01       4033  14533   2226  \n",
       "2023-01-02      16375  52104  12302  \n",
       "2023-01-04      17898  59989  13686  \n",
       "2023-01-05      19526  60288  15533  \n",
       "2023-01-06      19216  57939  15934  \n",
       "\n",
       "[5 rows x 30 columns]"
      ]
     },
     "execution_count": 279,
     "metadata": {},
     "output_type": "execute_result"
    }
   ],
   "source": [
    "ret_vil = ['L9'] + lineas_retiro + lineas_villa_caraza\n",
    "pasajeros_ret_vil = pasajeros[ret_vil]\n",
    "pasajeros_ret_vil.head()"
   ]
  },
  {
   "cell_type": "code",
   "execution_count": 280,
   "metadata": {},
   "outputs": [
    {
     "data": {
      "text/plain": [
       "'L158'"
      ]
     },
     "execution_count": 280,
     "metadata": {},
     "output_type": "execute_result"
    }
   ],
   "source": [
    "pasajeros_ret_vil.corr()[['L9']].idxmin().iloc[0]"
   ]
  },
  {
   "cell_type": "code",
   "execution_count": 283,
   "metadata": {},
   "outputs": [
    {
     "data": {
      "text/plain": [
       "['L101',\n",
       " 'L7',\n",
       " 'L150',\n",
       " 'L100',\n",
       " 'L115',\n",
       " 'L106',\n",
       " 'L6',\n",
       " 'L91',\n",
       " 'L56',\n",
       " 'L50',\n",
       " 'L108',\n",
       " 'L130']"
      ]
     },
     "execution_count": 283,
     "metadata": {},
     "output_type": "execute_result"
    }
   ],
   "source": [
    "mas_corr = []\n",
    "copia = pasajeros_ret_vil.corr()[['L9']].copy()\n",
    "copia = copia.drop(index = 'L9', axis = 1)\n",
    "\n",
    "for i in range(0,12,1):\n",
    "    a = copia.idxmax().iloc[0]\n",
    "    copia = copia.drop(index = a, axis = 1)\n",
    "    mas_corr.append(a)\n",
    "\n",
    "mas_corr\n",
    "#Las 12 lineas que mas correlacion tienen con la linea 9"
   ]
  },
  {
   "cell_type": "code",
   "execution_count": 284,
   "metadata": {},
   "outputs": [
    {
     "data": {
      "text/plain": [
       "['L152',\n",
       " 'L21',\n",
       " 'L132',\n",
       " 'L130',\n",
       " 'L33',\n",
       " 'L101',\n",
       " 'L126',\n",
       " 'L106',\n",
       " 'L100',\n",
       " 'L45',\n",
       " 'L91',\n",
       " 'L26']"
      ]
     },
     "execution_count": 284,
     "metadata": {},
     "output_type": "execute_result"
    }
   ],
   "source": [
    "mas_pas = []\n",
    "copia = pasajeros_ret_vil.copy()\n",
    "copia = copia.drop('L9', axis = 1)\n",
    "\n",
    "for i in range(0,12,1):\n",
    "    a = copia.sum().idxmax()\n",
    "    copia = copia.drop(a, axis = 1)\n",
    "    mas_pas.append(a)\n",
    "\n",
    "mas_pas \n",
    "#Las 12 lineas que mas gente mueven pasan por Retiro"
   ]
  },
  {
   "cell_type": "code",
   "execution_count": 285,
   "metadata": {},
   "outputs": [
    {
     "data": {
      "text/plain": [
       "['L101', 'L106', 'L100', 'L91', 'L130']"
      ]
     },
     "execution_count": 285,
     "metadata": {},
     "output_type": "execute_result"
    }
   ],
   "source": [
    "mejores = list(set(mas_corr) & set(mas_pas))\n",
    "mejores"
   ]
  },
  {
   "cell_type": "markdown",
   "metadata": {},
   "source": [
    "La idea es utilizar colectivos que tengan una gran correlacion con la linea 9 y al mismo tiempo esten entre las lineas que mas gente mueven, se encontro que entre las 12 primeras con mayor correlacion y con mayor cantidad de pasajeros coinciden 5 lineas, por lo tanto seria interesante utilizar estas para armar un modelo. \n",
    "Se utilizara un modelo de Regresion Ridge, con un GridSearchCV para encontrar un alpha optima."
   ]
  },
  {
   "cell_type": "code",
   "execution_count": 309,
   "metadata": {},
   "outputs": [],
   "source": [
    "X, y = pasajeros[pasajeros.drop('L9', axis = 1).columns], pasajeros[['L9']]\n",
    "X_train, X_test, y_train, y_test = train_test_split(X, y, train_size = 0.8, random_state = 1)\n"
   ]
  },
  {
   "cell_type": "code",
   "execution_count": 310,
   "metadata": {},
   "outputs": [],
   "source": [
    "formula = ' ~ L100 + L91 + L101 + L130 + L106'\n",
    "X1_train = model_matrix(formula, X_train)\n",
    "X1_test = model_matrix(formula, X_test)"
   ]
  },
  {
   "cell_type": "code",
   "execution_count": 311,
   "metadata": {},
   "outputs": [],
   "source": [
    "alpha = {\"alpha\": np.logspace(-5,5,100)}"
   ]
  },
  {
   "cell_type": "code",
   "execution_count": 312,
   "metadata": {},
   "outputs": [
    {
     "data": {
      "text/plain": [
       "({'alpha': 4.534878508128582}, -1915.1341045672016)"
      ]
     },
     "execution_count": 312,
     "metadata": {},
     "output_type": "execute_result"
    }
   ],
   "source": [
    "gs = GridSearchCV(Ridge(fit_intercept = False), alpha, cv = 5, scoring = \"neg_root_mean_squared_error\", return_train_score = True)\n",
    "gs.fit(X1_train, y_train)\n",
    "\n",
    "gs.best_params_, gs.best_score_"
   ]
  },
  {
   "cell_type": "code",
   "execution_count": 313,
   "metadata": {},
   "outputs": [
    {
     "data": {
      "text/html": [
       "<div>\n",
       "<style scoped>\n",
       "    .dataframe tbody tr th:only-of-type {\n",
       "        vertical-align: middle;\n",
       "    }\n",
       "\n",
       "    .dataframe tbody tr th {\n",
       "        vertical-align: top;\n",
       "    }\n",
       "\n",
       "    .dataframe thead th {\n",
       "        text-align: right;\n",
       "    }\n",
       "</style>\n",
       "<table border=\"1\" class=\"dataframe\">\n",
       "  <thead>\n",
       "    <tr style=\"text-align: right;\">\n",
       "      <th></th>\n",
       "      <th>param_alpha</th>\n",
       "      <th>mean_test_score</th>\n",
       "      <th>mean_train_score</th>\n",
       "    </tr>\n",
       "  </thead>\n",
       "  <tbody>\n",
       "    <tr>\n",
       "      <th>0</th>\n",
       "      <td>0.00001</td>\n",
       "      <td>1920.109149</td>\n",
       "      <td>1912.066407</td>\n",
       "    </tr>\n",
       "    <tr>\n",
       "      <th>1</th>\n",
       "      <td>0.000013</td>\n",
       "      <td>1920.109140</td>\n",
       "      <td>1912.066407</td>\n",
       "    </tr>\n",
       "    <tr>\n",
       "      <th>2</th>\n",
       "      <td>0.000016</td>\n",
       "      <td>1920.109129</td>\n",
       "      <td>1912.066407</td>\n",
       "    </tr>\n",
       "    <tr>\n",
       "      <th>3</th>\n",
       "      <td>0.00002</td>\n",
       "      <td>1920.109115</td>\n",
       "      <td>1912.066407</td>\n",
       "    </tr>\n",
       "    <tr>\n",
       "      <th>4</th>\n",
       "      <td>0.000025</td>\n",
       "      <td>1920.109097</td>\n",
       "      <td>1912.066407</td>\n",
       "    </tr>\n",
       "    <tr>\n",
       "      <th>...</th>\n",
       "      <td>...</td>\n",
       "      <td>...</td>\n",
       "      <td>...</td>\n",
       "    </tr>\n",
       "    <tr>\n",
       "      <th>95</th>\n",
       "      <td>39442.060594</td>\n",
       "      <td>1940.655526</td>\n",
       "      <td>1944.850337</td>\n",
       "    </tr>\n",
       "    <tr>\n",
       "      <th>96</th>\n",
       "      <td>49770.235643</td>\n",
       "      <td>1940.658827</td>\n",
       "      <td>1944.854011</td>\n",
       "    </tr>\n",
       "    <tr>\n",
       "      <th>97</th>\n",
       "      <td>62802.914418</td>\n",
       "      <td>1940.661236</td>\n",
       "      <td>1944.856922</td>\n",
       "    </tr>\n",
       "    <tr>\n",
       "      <th>98</th>\n",
       "      <td>79248.289835</td>\n",
       "      <td>1940.662883</td>\n",
       "      <td>1944.859230</td>\n",
       "    </tr>\n",
       "    <tr>\n",
       "      <th>99</th>\n",
       "      <td>100000.0</td>\n",
       "      <td>1940.663857</td>\n",
       "      <td>1944.861060</td>\n",
       "    </tr>\n",
       "  </tbody>\n",
       "</table>\n",
       "<p>100 rows × 3 columns</p>\n",
       "</div>"
      ],
      "text/plain": [
       "     param_alpha  mean_test_score  mean_train_score\n",
       "0        0.00001      1920.109149       1912.066407\n",
       "1       0.000013      1920.109140       1912.066407\n",
       "2       0.000016      1920.109129       1912.066407\n",
       "3        0.00002      1920.109115       1912.066407\n",
       "4       0.000025      1920.109097       1912.066407\n",
       "..           ...              ...               ...\n",
       "95  39442.060594      1940.655526       1944.850337\n",
       "96  49770.235643      1940.658827       1944.854011\n",
       "97  62802.914418      1940.661236       1944.856922\n",
       "98  79248.289835      1940.662883       1944.859230\n",
       "99      100000.0      1940.663857       1944.861060\n",
       "\n",
       "[100 rows x 3 columns]"
      ]
     },
     "execution_count": 313,
     "metadata": {},
     "output_type": "execute_result"
    }
   ],
   "source": [
    "cv_results_ = pd.DataFrame(gs.cv_results_)[[\"param_alpha\", \"mean_test_score\", \"mean_train_score\"]]\n",
    "cv_results_[[\"mean_test_score\", \"mean_train_score\"]] *= -1\n",
    "cv_results_"
   ]
  },
  {
   "cell_type": "code",
   "execution_count": 314,
   "metadata": {},
   "outputs": [
    {
     "data": {
      "image/png": "[encoded data removed]",
      "text/plain": [
       "<Figure size 640x480 with 1 Axes>"
      ]
     },
     "metadata": {},
     "output_type": "display_data"
    }
   ],
   "source": [
    "sns.lineplot(x = \"param_alpha\", y = \"mean_test_score\", data = cv_results_, label = \"Test\")\n",
    "sns.lineplot(x = \"param_alpha\", y = \"mean_train_score\", data = cv_results_, label = \"Train\")\n",
    "plt.xscale(\"log\")\n",
    "plt.show()"
   ]
  },
  {
   "cell_type": "code",
   "execution_count": 320,
   "metadata": {},
   "outputs": [
    {
     "data": {
      "text/plain": [
       "(0.9661710486806753, 1917.9443773477851)"
      ]
     },
     "execution_count": 320,
     "metadata": {},
     "output_type": "execute_result"
    }
   ],
   "source": [
    "y_pred = gs.predict(X1_test)\n",
    "\n",
    "r2 = r2_score(y_test, y_pred)\n",
    "recm = np.sqrt(mean_squared_error(y_test, y_pred))\n",
    "r2, recm"
   ]
  },
  {
   "cell_type": "code",
   "execution_count": 321,
   "metadata": {},
   "outputs": [],
   "source": [
    "test = X1_test.copy()\n",
    "test[\"y_test\"] = y_test\n",
    "test[\"y_pred\"] = y_pred\n",
    "test[\"Residuos\"] = y_test - y_pred"
   ]
  },
  {
   "cell_type": "code",
   "execution_count": 338,
   "metadata": {},
   "outputs": [
    {
     "name": "stdout",
     "output_type": "stream",
     "text": [
      "El promedio de los datos de test es: {24181.84}\n",
      "El promedio de los datos de prediccion es: {24240.54}\n",
      "La diferencia entre los promedios es de: {58.7}\n",
      "El promedio de los residuos es de: {1425.62}\n"
     ]
    }
   ],
   "source": [
    "residuo_medio = np.sqrt(test[\"Residuos\"]**2).mean()\n",
    "test_mean = test[\"y_test\"].mean() \n",
    "pred_mean = test[\"y_pred\"].mean() \n",
    "print(\"El promedio de los datos de test es:\", {test_mean})\n",
    "print(\"El promedio de los datos de prediccion es:\", {round(pred_mean, 2)})\n",
    "print(\"La diferencia entre los promedios es de:\", {round(round(pred_mean, 2) - test_mean, 2)})\n",
    "print(\"El promedio de los residuos es de:\", {round(residuo_medio, 2)})"
   ]
  },
  {
   "cell_type": "markdown",
   "metadata": {},
   "source": [
    "Se cree que la diferencia entre el promedio de los residuos y la diferencia de los promedio de datos de test y de prediccion se deben a outliers en los datos de la linea 9, hay dias donde los pasajeros son muy bajos comparado a la media."
   ]
  },
  {
   "cell_type": "code",
   "execution_count": 323,
   "metadata": {},
   "outputs": [
    {
     "data": {
      "image/png": "[encoded data removed]",
      "text/plain": [
       "<Figure size 1000x500 with 6 Axes>"
      ]
     },
     "metadata": {},
     "output_type": "display_data"
    }
   ],
   "source": [
    "fig, axs = plt.subplots(2, 3, figsize = (10, 5), sharey = True, layout='constrained')\n",
    "for versus, ax in zip(['L100', 'L91', 'L101', 'L130', 'L106', 'y_test'], axs.flatten()):\n",
    "    sns.scatterplot(x = versus, y = \"Residuos\", data = test, ax = ax)"
   ]
  },
  {
   "cell_type": "markdown",
   "metadata": {},
   "source": [
    "Este modelo tiene un error bajo relativamente, el promedio de los datos de test respecto del promedio de los predecidos es de  "
   ]
  },
  {
   "cell_type": "markdown",
   "metadata": {},
   "source": [
    "Colectivos metrobus 9 de julio: \n",
    "9, 10, 17, 39, 45, 59, 67, 70, 91, 98, 100, 129"
   ]
  },
  {
   "cell_type": "markdown",
   "metadata": {},
   "source": [
    "La idea de este segundo modelo es utilizar los datos de colectivos que pasan por el metrobus de 9 de julio, donde la linea 9 realiza gran parte de su recorrido"
   ]
  },
  {
   "cell_type": "markdown",
   "metadata": {},
   "source": []
  }
 ],
 "metadata": {
  "kernelspec": {
   "display_name": "Python 3",
   "language": "python",
   "name": "python3"
  },
  "language_info": {
   "codemirror_mode": {
    "name": "ipython",
    "version": 3
   },
   "file_extension": ".py",
   "mimetype": "text/x-python",
   "name": "python",
   "nbconvert_exporter": "python",
   "pygments_lexer": "ipython3",
   "version": "3.10.4"
  }
 },
 "nbformat": 4,
 "nbformat_minor": 2
}
