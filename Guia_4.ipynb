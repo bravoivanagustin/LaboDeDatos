{
  "cells": [
    {
      "cell_type": "code",
      "execution_count": 1,
      "metadata": {
        "id": "TZBwpSJCdj4p"
      },
      "outputs": [],
      "source": [
        "import numpy as np\n",
        "import pandas as pd\n",
        "from gapminder import gapminder\n",
        "import matplotlib as plt\n",
        "\n",
        "import seaborn as sns\n",
        "import seaborn.objects as so\n",
        "\n",
        "from sklearn import linear_model\n",
        "from sklearn.metrics import mean_squared_error, r2_score"
      ]
    },
    {
      "cell_type": "code",
      "execution_count": null,
      "metadata": {
        "id": "lBqRKoDucu9p"
      },
      "outputs": [],
      "source": [
        "def coefs_rl(x,y):\n",
        "    beta_1 = np.sum((x-x.mean())*(y-y.mean()))/np.sum((x-x.mean())**2)\n",
        "    beta_0 = y.mean() - beta_1 * x.mean()\n",
        "    return beta_1, beta_0"
      ]
    },
    {
      "cell_type": "code",
      "execution_count": null,
      "metadata": {
        "colab": {
          "base_uri": "https://localhost:8080/",
          "height": 158
        },
        "id": "2shwlm2LeD75",
        "outputId": "c9e2e3d6-8f02-4422-b089-6278de7419a7"
      },
      "outputs": [],
      "source": [
        "arg = gapminder[gapminder[\"country\"] == \"Argentina\"]\n",
        "print(coefs_rl(arg[\"year\"], arg[\"lifeExp\"]))"
      ]
    },
    {
      "cell_type": "code",
      "execution_count": null,
      "metadata": {
        "colab": {
          "base_uri": "https://localhost:8080/"
        },
        "id": "CYjG0T-lf6-t",
        "outputId": "3375ab04-d884-4010-8139-91cf0b7c336b"
      },
      "outputs": [],
      "source": [
        "modelo = linear_model.LinearRegression()\n",
        "modelo.fit(arg[[\"year\"]], arg[[\"lifeExp\"]])\n",
        "beta_1 = modelo.coef_[0][0]\n",
        "beta_0 = modelo.intercept_[0]\n",
        "print(beta_1, beta_0)"
      ]
    },
    {
      "cell_type": "code",
      "execution_count": null,
      "metadata": {
        "colab": {
          "base_uri": "https://localhost:8080/",
          "height": 206
        },
        "id": "t0GjFmyvhAi5",
        "outputId": "5bd25bb8-f913-43ff-94b8-634856a0e82b"
      },
      "outputs": [],
      "source": [
        "inm = pd.read_csv(\"inmuebles.csv\")\n",
        "inm.head()"
      ]
    },
    {
      "cell_type": "code",
      "execution_count": null,
      "metadata": {
        "colab": {
          "base_uri": "https://localhost:8080/",
          "height": 395
        },
        "id": "q6JHJHqXhn4H",
        "outputId": "566863e4-2f3e-4493-c891-e11b023ec960"
      },
      "outputs": [],
      "source": [
        "(\n",
        "    so.Plot(data = inm, x = \"superficie\", y = \"precio\")\n",
        "    .add(so.Dot())\n",
        ")"
      ]
    },
    {
      "cell_type": "code",
      "execution_count": null,
      "metadata": {
        "colab": {
          "base_uri": "https://localhost:8080/",
          "height": 395
        },
        "id": "Q-NVmgd1iVpE",
        "outputId": "3b3f4343-3b39-4e74-a614-c9620421e99e"
      },
      "outputs": [],
      "source": [
        "(\n",
        "    so.Plot(data = inm, x = \"superficie\", y = \"precio\")\n",
        "    .add(so.Dot())\n",
        "    .add(so.Line(), so.PolyFit(1), label = \"Regresion\")\n",
        "    .label(title = \"Datos inmobiliarios\")\n",
        ")"
      ]
    },
    {
      "cell_type": "code",
      "execution_count": null,
      "metadata": {
        "colab": {
          "base_uri": "https://localhost:8080/"
        },
        "id": "4MdHq6AJupxW",
        "outputId": "d1c220f8-3bd7-45bb-86ba-c7ed9a6edb0d"
      },
      "outputs": [],
      "source": [
        "modelo = linear_model.LinearRegression()\n",
        "modelo.fit(inm[[\"superficie\"]], inm[[\"precio\"]])\n",
        "beta_1 = modelo.coef_[0][0]\n",
        "beta_0 = modelo.intercept_[0]\n",
        "print(beta_1, beta_0)"
      ]
    },
    {
      "cell_type": "code",
      "execution_count": null,
      "metadata": {
        "colab": {
          "base_uri": "https://localhost:8080/"
        },
        "id": "eEp6nU_DjhCr",
        "outputId": "b28f6bbd-6212-4546-ee8f-d3c73d9baaca"
      },
      "outputs": [],
      "source": [
        "b1, b0 = coefs_rl(inm[\"superficie\"], inm[\"precio\"])\n",
        "print(\"El precio por metro cuadrado es:\" , b1)\n",
        "print(\"El precio inicial es:\" , b0)"
      ]
    },
    {
      "cell_type": "code",
      "execution_count": null,
      "metadata": {
        "id": "WwfjFNAGjvhS"
      },
      "outputs": [],
      "source": [
        "def ecm(x, y, b1, b0):\n",
        "    res = np.sum((y-(b1*x+b0))**2)/len(x)\n",
        "    return res"
      ]
    },
    {
      "cell_type": "code",
      "execution_count": null,
      "metadata": {
        "id": "7xOLJSw1lSrP"
      },
      "outputs": [],
      "source": [
        "def r_cuad(x, y, b1, b0):\n",
        "    res = np.sum(((b1*x+b0)-y.mean())**2)/np.sum((y-y.mean())**2)\n",
        "    return res"
      ]
    },
    {
      "cell_type": "code",
      "execution_count": null,
      "metadata": {
        "colab": {
          "base_uri": "https://localhost:8080/"
        },
        "id": "H9rOIFe8looe",
        "outputId": "60ea1aa6-3c19-492c-d8e3-c2215beb2617"
      },
      "outputs": [],
      "source": [
        "print(ecm(inm[\"superficie\"], inm[\"precio\"], b1, b0))\n",
        "print(r_cuad(inm[\"superficie\"], inm[\"precio\"], b1, b0))"
      ]
    },
    {
      "cell_type": "code",
      "execution_count": null,
      "metadata": {
        "colab": {
          "base_uri": "https://localhost:8080/"
        },
        "id": "n3v-oFJD3VXu",
        "outputId": "5ffe354a-5d69-4ae1-eab2-f097a593d9ee"
      },
      "outputs": [],
      "source": [
        "inm[\"superficie\"]"
      ]
    },
    {
      "cell_type": "code",
      "execution_count": null,
      "metadata": {
        "colab": {
          "base_uri": "https://localhost:8080/"
        },
        "id": "sUSzhbaOlyPg",
        "outputId": "d97b5947-ad53-4080-a61d-2ba1780a1551"
      },
      "outputs": [],
      "source": [
        "precio_r = b1 * inm[\"superficie\"] + b0\n",
        "print(mean_squared_error(inm[\"precio\"], precio_r))\n",
        "print(r2_score(inm[\"precio\"], precio_r))"
      ]
    },
    {
      "cell_type": "code",
      "execution_count": null,
      "metadata": {
        "colab": {
          "base_uri": "https://localhost:8080/",
          "height": 466
        },
        "id": "Tm-Dwy1MnCZ8",
        "outputId": "a0c953b2-3e21-4b8f-aa64-2df9f123369f"
      },
      "outputs": [],
      "source": [
        "sns.boxplot(data = inm, x = \"zona\", y = \"precio\")"
      ]
    },
    {
      "cell_type": "code",
      "execution_count": null,
      "metadata": {
        "id": "lKb6QRf3nvxm"
      },
      "outputs": [],
      "source": [
        "z1 = inm[inm[\"zona\"] == \"Zona 1\"]\n",
        "z2 = inm[inm[\"zona\"] == \"Zona 2\"]\n",
        "z3 = inm[inm[\"zona\"] == \"Zona 3\"]"
      ]
    },
    {
      "cell_type": "code",
      "execution_count": null,
      "metadata": {
        "id": "iZx793UtohzZ"
      },
      "outputs": [],
      "source": [
        "b1z1, b0z1 = coefs_rl(z1[\"superficie\"], z1[\"precio\"])\n",
        "b1z2, b0z2 = coefs_rl(z2[\"superficie\"], z2[\"precio\"])\n",
        "b1z3, b0z3 = coefs_rl(z3[\"superficie\"], z3[\"precio\"])"
      ]
    },
    {
      "cell_type": "code",
      "execution_count": null,
      "metadata": {
        "id": "7t-STJ95o6yY"
      },
      "outputs": [],
      "source": [
        "ecm1, r_cuad1 = (ecm(z1[\"superficie\"], z1[\"precio\"], b1z1, b0z1), r_cuad(z1[\"superficie\"], z1[\"precio\"], b1z1, b0z1))\n",
        "ecm2, r_cuad2 = (ecm(z2[\"superficie\"], z2[\"precio\"], b1z2, b0z2), r_cuad(z2[\"superficie\"], z2[\"precio\"], b1z2, b0z2))\n",
        "ecm3, r_cuad3 = (ecm(z3[\"superficie\"], z3[\"precio\"], b1z3, b0z3), r_cuad(z3[\"superficie\"], z3[\"precio\"], b1z3, b0z3))"
      ]
    },
    {
      "cell_type": "code",
      "execution_count": null,
      "metadata": {
        "colab": {
          "base_uri": "https://localhost:8080/"
        },
        "id": "8diob89npe7H",
        "outputId": "666f47dd-0297-44d6-eb89-65b4052f0b3a"
      },
      "outputs": [],
      "source": [
        "print(b1z1, b0z1, ecm1, r_cuad1)\n",
        "print(b1z2, b0z2, ecm2, r_cuad2)\n",
        "print(b1z3, b0z3, ecm3, r_cuad3)"
      ]
    },
    {
      "cell_type": "code",
      "execution_count": null,
      "metadata": {
        "colab": {
          "base_uri": "https://localhost:8080/",
          "height": 395
        },
        "id": "IJZ6sLllpi4J",
        "outputId": "c55d21ea-8e34-4a98-9405-1c7e5b50c8b6"
      },
      "outputs": [],
      "source": [
        "(\n",
        "    so.Plot(data = inm, x = \"superficie\", y = \"precio\", color = \"zona\")\n",
        "    .add(so.Dot())\n",
        "    .add(so.Line(), so.PolyFit(1), label = \"Regresion\")\n",
        "    .facet(\"zona\", order = sorted(inm[\"zona\"].unique()))\n",
        ")"
      ]
    },
    {
      "cell_type": "code",
      "execution_count": null,
      "metadata": {
        "colab": {
          "base_uri": "https://localhost:8080/"
        },
        "id": "iAxe0gRetTvz",
        "outputId": "f5056306-39e4-4f4a-ee86-aec0e13aa2c3"
      },
      "outputs": [],
      "source": [
        "p = b1 * 105 + b0\n",
        "p_z2 = b1z2 * 105 + b0z2\n",
        "print(p, p_z2)"
      ]
    },
    {
      "cell_type": "code",
      "execution_count": null,
      "metadata": {
        "colab": {
          "base_uri": "https://localhost:8080/"
        },
        "id": "OUayq0Oyteuj",
        "outputId": "9c11bfd5-76b9-4c9e-9cae-37c489311178"
      },
      "outputs": [],
      "source": [
        "sp = (300-b0z2)/b1z2\n",
        "print(sp)"
      ]
    },
    {
      "cell_type": "code",
      "execution_count": null,
      "metadata": {
        "id": "05XcYFoFtw7q"
      },
      "outputs": [],
      "source": [
        "inm_out = pd.read_csv(\"inmuebles_outliers.csv\")"
      ]
    },
    {
      "cell_type": "code",
      "execution_count": null,
      "metadata": {
        "colab": {
          "base_uri": "https://localhost:8080/",
          "height": 466
        },
        "id": "jG6c7AkXvGyU",
        "outputId": "b737fc6f-9f45-4ef4-f53b-f6a64f8a7ef2"
      },
      "outputs": [],
      "source": [
        "sns.boxplot(data = inm_out, x = \"zona\", y = \"precio\")"
      ]
    },
    {
      "cell_type": "code",
      "execution_count": null,
      "metadata": {
        "id": "236Pe_8ivO_g"
      },
      "outputs": [],
      "source": [
        "z2_out = inm_out[inm_out[\"zona\"] == \"Zona 2\"]"
      ]
    },
    {
      "cell_type": "code",
      "execution_count": null,
      "metadata": {
        "id": "kQQY5_FKvauJ"
      },
      "outputs": [],
      "source": [
        "b1z2_out, b0z2_out = coefs_rl(z2_out[\"superficie\"], z2_out[\"precio\"])\n",
        "ecm2_out, r_cuad2_out = (ecm(z2_out[\"superficie\"], z2_out[\"precio\"], b1z2_out, b0z2_out), r_cuad(z2_out[\"superficie\"], z2_out[\"precio\"], b1z2_out, b0z2_out))"
      ]
    },
    {
      "cell_type": "code",
      "execution_count": null,
      "metadata": {
        "colab": {
          "base_uri": "https://localhost:8080/"
        },
        "id": "Xqah0-c4vuuA",
        "outputId": "400f32b5-ccab-4c19-fcd5-6979a403cfbc"
      },
      "outputs": [],
      "source": [
        "print(b1z2, b0z2, ecm2, r_cuad2)\n",
        "print(b1z2_out, b0z2_out, ecm2_out, r_cuad2_out)"
      ]
    },
    {
      "cell_type": "code",
      "execution_count": null,
      "metadata": {
        "colab": {
          "base_uri": "https://localhost:8080/",
          "height": 206
        },
        "id": "Mt4dIRZTv15v",
        "outputId": "9db11e29-3823-4e3a-e0f7-65ed42bdbb67"
      },
      "outputs": [],
      "source": [
        "btc = pd.read_csv(\"bitcoin.csv\")\n",
        "btc.head()"
      ]
    },
    {
      "cell_type": "code",
      "execution_count": null,
      "metadata": {
        "id": "c_JzYq5Sw81L"
      },
      "outputs": [],
      "source": [
        "btc[\"Date\"] = pd.to_datetime(btc[\"Date\"], format = \"%Y-%m-%d\")\n",
        "btc_2021 = btc[(btc[\"Date\"]>\"2021-01-01\") & (btc[\"Date\"] < \"2021-07-01\")]"
      ]
    },
    {
      "cell_type": "code",
      "execution_count": null,
      "metadata": {
        "colab": {
          "base_uri": "https://localhost:8080/",
          "height": 430
        },
        "id": "eLKpKDA-xWBY",
        "outputId": "9589c7a8-8d32-4741-82fd-c0786153a49f"
      },
      "outputs": [],
      "source": [
        "(\n",
        "    so.Plot(data = btc_2021, x = \"Date\", y = \"Close\")\n",
        "    .add(so.Line())\n",
        "    .add(so.Line(), so.PolyFit(5))\n",
        ")"
      ]
    },
    {
      "cell_type": "code",
      "execution_count": null,
      "metadata": {
        "id": "dVzgpc7Z6J1i"
      },
      "outputs": [],
      "source": [
        "tips = sns.load_dataset(\"tips\")"
      ]
    },
    {
      "cell_type": "code",
      "execution_count": null,
      "metadata": {
        "id": "32u29zxWA-BP"
      },
      "outputs": [],
      "source": [
        "x = tips[\"total_bill\"]\n",
        "xf = x - x.mean()"
      ]
    },
    {
      "cell_type": "code",
      "execution_count": null,
      "metadata": {
        "colab": {
          "base_uri": "https://localhost:8080/",
          "height": 395
        },
        "id": "LY8o_pS-BDRF",
        "outputId": "fb7251ad-7e54-4dbb-f671-8173fd90dccd"
      },
      "outputs": [],
      "source": [
        "(\n",
        "    so.Plot(x = xf, y = tips[\"tip\"])\n",
        "    .add(so.Dot())\n",
        "    .add(so.Line(), so.PolyFit())\n",
        ")"
      ]
    },
    {
      "cell_type": "code",
      "execution_count": null,
      "metadata": {
        "colab": {
          "base_uri": "https://localhost:8080/"
        },
        "id": "HHQ7rgK1Bc-U",
        "outputId": "0c65aad6-72b0-4e5c-ef44-59c768726953"
      },
      "outputs": [],
      "source": [
        "tips[\"tip\"].mean()"
      ]
    },
    {
      "cell_type": "code",
      "execution_count": null,
      "metadata": {
        "colab": {
          "base_uri": "https://localhost:8080/"
        },
        "id": "S0J5LQFbCO3w",
        "outputId": "f66cf394-f706-4df6-9b3c-ba5c117d5dbc"
      },
      "outputs": [],
      "source": [
        "c, d = coefs_rl(xf, tips[\"tip\"])\n",
        "print(c,d)"
      ]
    },
    {
      "cell_type": "code",
      "execution_count": null,
      "metadata": {
        "colab": {
          "base_uri": "https://localhost:8080/"
        },
        "id": "qm7l0DwWe2GY",
        "outputId": "c267b9a5-1fdb-47b5-9013-f030051a129d"
      },
      "outputs": [],
      "source": [
        "c, d = coefs_rl(tips[\"total_bill\"], tips[\"tip\"])\n",
        "print(c,d)"
      ]
    }
  ],
  "metadata": {
    "colab": {
      "provenance": []
    },
    "kernelspec": {
      "display_name": "Python 3",
      "name": "python3"
    },
    "language_info": {
      "codemirror_mode": {
        "name": "ipython",
        "version": 3
      },
      "file_extension": ".py",
      "mimetype": "text/x-python",
      "name": "python",
      "nbconvert_exporter": "python",
      "pygments_lexer": "ipython3",
      "version": "3.12.3"
    }
  },
  "nbformat": 4,
  "nbformat_minor": 0
}
